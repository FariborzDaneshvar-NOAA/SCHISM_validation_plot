{
 "cells": [
  {
   "cell_type": "code",
   "execution_count": 1,
   "id": "2acf06e2-4732-4303-ac75-ecf3658d1fbb",
   "metadata": {
    "tags": []
   },
   "outputs": [],
   "source": [
    "import os\n",
    "import requests\n",
    "import fsspec\n",
    "import xarray as xr\n",
    "import pandas as pd\n",
    "import matplotlib.pyplot as plt\n",
    "\n",
    "os.environ['USE_PYGEOS'] = '0'\n",
    "import geopandas as gpd\n",
    "\n",
    "from stormevents import StormEvent\n",
    "from stormevents.usgs import sensors, events\n",
    "from cartopy.feature import NaturalEarthFeature\n",
    "\n",
    "from datetime import datetime\n",
    "from shapely.geometry import MultiPolygon\n",
    "from shapely.ops import polygonize\n",
    "from searvey.coops import coops_product_within_region, coops_stations_within_region"
   ]
  },
  {
   "cell_type": "code",
   "execution_count": 2,
   "id": "bc05dda5-1c20-4d22-b34a-5af7453d838f",
   "metadata": {
    "tags": []
   },
   "outputs": [],
   "source": [
    "def get_storm_track_date(storm_track, advisory):\n",
    "    for idx in storm_track.linestrings[advisory]:\n",
    "        plot_date = idx #xy_line = storm_track.linestrings[advisory][idx].xy\n",
    "    return plot_date"
   ]
  },
  {
   "cell_type": "code",
   "execution_count": 3,
   "id": "1cdb7af1-d326-41ef-928b-8f49d29aebbd",
   "metadata": {
    "tags": []
   },
   "outputs": [],
   "source": [
    "def get_storm_track_line(storm_track, advisory):\n",
    "    for idx in storm_track.linestrings[advisory]:\n",
    "        xy_line = storm_track.linestrings[advisory][idx].xy\n",
    "    return xy_line"
   ]
  },
  {
   "cell_type": "code",
   "execution_count": 4,
   "id": "b02f90d4-0cfa-478d-8e41-fe4fa4a9df89",
   "metadata": {
    "tags": []
   },
   "outputs": [],
   "source": [
    "def format_datetime_for_coops(storm_datetime):\n",
    "    return datetime(storm_datetime.year, storm_datetime.month, storm_datetime.day, storm_datetime.hour, storm_datetime.minute)"
   ]
  },
  {
   "cell_type": "code",
   "execution_count": 5,
   "id": "05925542-ddc9-4f14-9f9e-ac43f04c6d65",
   "metadata": {},
   "outputs": [],
   "source": [
    "def plot_stations(df_obs,storm_track):\n",
    "    figure, axis = plt.subplots(1, 1)\n",
    "    figure.set_size_inches(12, 12/1.6)\n",
    "    \n",
    "    track_line = get_storm_track_line(storm_track, 'BEST')\n",
    "    \n",
    "    axis.scatter(df_obs[df_obs['Source']=='COOPS']['Longitude'], df_obs[df_obs['Source']=='COOPS']['Latitude'], marker='s', s=15, label='COOPS')\n",
    "    axis.scatter(df_obs[df_obs['Source']=='USGS']['Longitude'], df_obs[df_obs['Source']=='USGS']['Latitude'], marker='x', s=22, label='USGS')\n",
    "    \n",
    "    xlim = axis.get_xlim()\n",
    "    ylim = axis.get_ylim()\n",
    "    \n",
    "    axis.plot(*track_line, c='black', linestyle='dashed', label='BEST track', zorder=-1)\n",
    "    gdf_countries.plot(color='lightgrey', ax=axis, zorder=-5)\n",
    "    \n",
    "    axis.set_xlim(xlim)\n",
    "    axis.set_ylim(ylim)\n",
    "\n",
    "    plt.legend()\n",
    "    plt.title(f'{storm_track.name}_{storm_track.year}')\n",
    "    plt.savefig(f'{storm_track.name}_{storm_track.year}_COOPS_and_USGS_stations.png')"
   ]
  },
  {
   "cell_type": "markdown",
   "id": "24cdd31b-3539-42c0-a5c1-97145ff1dc3c",
   "metadata": {},
   "source": [
    "**Define the storm**"
   ]
  },
  {
   "cell_type": "code",
   "execution_count": 6,
   "id": "75ab2fb1-217c-4929-ba3a-08ba8551496b",
   "metadata": {
    "tags": []
   },
   "outputs": [],
   "source": [
    "storm_name = 'florence'\n",
    "storm_year = 2018"
   ]
  },
  {
   "cell_type": "markdown",
   "id": "9996bd9c-f3f3-4259-9b76-05da70fbf0f9",
   "metadata": {},
   "source": [
    "Retrieve storm from stormevent"
   ]
  },
  {
   "cell_type": "code",
   "execution_count": 7,
   "id": "b7f9d1fb-05d2-4737-8950-7f2dac3f2a19",
   "metadata": {
    "tags": []
   },
   "outputs": [
    {
     "name": "stderr",
     "output_type": "stream",
     "text": [
      "/root/miniconda3/envs/nhc_colab/lib/python3.10/site-packages/stormevents/nhc/storms.py:64: FutureWarning: The argument 'date_parser' is deprecated and will be removed in a future version. Please use 'date_format' instead, or read your data in as 'object' dtype and then call 'to_datetime'.\n",
      "  storms = pandas.read_csv(\n"
     ]
    }
   ],
   "source": [
    "storm = StormEvent(name=storm_name.upper(),\n",
    "                   year=storm_year)"
   ]
  },
  {
   "cell_type": "markdown",
   "id": "55212e49-5b4e-40a1-a10d-1dde03cb2586",
   "metadata": {
    "tags": []
   },
   "source": [
    "## COOPS Max Elevations"
   ]
  },
  {
   "cell_type": "code",
   "execution_count": 8,
   "id": "04d476ba-5a25-432e-98b9-0d1a2e266a9a",
   "metadata": {
    "tags": []
   },
   "outputs": [],
   "source": [
    "storm_best_track = storm.track()"
   ]
  },
  {
   "cell_type": "code",
   "execution_count": 9,
   "id": "dc5e682a-f116-4f5e-9404-8b81f9b033cc",
   "metadata": {
    "tags": []
   },
   "outputs": [],
   "source": [
    "storm_date_str = get_storm_track_date(storm_best_track, 'BEST')\n",
    "storm_start_date = storm_best_track.start_date\n",
    "storm_end_date = storm_best_track.end_date "
   ]
  },
  {
   "cell_type": "markdown",
   "id": "d9419284-6022-4024-851d-43b5070b0146",
   "metadata": {},
   "source": [
    "Define COOPS domain "
   ]
  },
  {
   "cell_type": "code",
   "execution_count": 10,
   "id": "201a5217-5cac-477b-80fa-6c6a07d13a18",
   "metadata": {
    "tags": []
   },
   "outputs": [],
   "source": [
    "isotach_limit = 34\n",
    "isotach_domain = MultiPolygon(list(polygonize(storm_best_track.wind_swaths(wind_speed=isotach_limit)['BEST'][storm_date_str].exterior)))"
   ]
  },
  {
   "cell_type": "markdown",
   "id": "9b44c397-2a40-4dfd-9d94-38f8536bd08e",
   "metadata": {},
   "source": [
    "Retrieve COOPS observations"
   ]
  },
  {
   "cell_type": "code",
   "execution_count": 11,
   "id": "e78b8c4d-1927-4382-b0b5-0d48864d389e",
   "metadata": {
    "tags": []
   },
   "outputs": [],
   "source": [
    "domain_stations = coops_stations_within_region(region=isotach_domain)\n",
    "domain_stations = domain_stations.reset_index()\n",
    "\n",
    "coops_start_date = format_datetime_for_coops(storm_start_date)\n",
    "coops_end_date = format_datetime_for_coops(storm_end_date)\n",
    "\n",
    "coops_water_level = coops_product_within_region('water_level', \n",
    "                                                datum='NAVD',\n",
    "                                                region=isotach_domain,\n",
    "                                                start_date=coops_start_date,\n",
    "                                                end_date=coops_end_date)"
   ]
  },
  {
   "cell_type": "markdown",
   "id": "8a50d332-370c-4ac4-a0f0-5e87a418a5e7",
   "metadata": {},
   "source": [
    "Obtain names of COOPS stations"
   ]
  },
  {
   "cell_type": "code",
   "execution_count": 12,
   "id": "8cf45451-0ea2-4cd3-aa90-1a5b0fea5ff2",
   "metadata": {
    "tags": []
   },
   "outputs": [],
   "source": [
    "st_names = []\n",
    "for station in coops_water_level.nos_id.values:\n",
    "    temp = domain_stations[domain_stations['nos_id']==int(station)]['name'].values[0]\n",
    "    st_names.append(temp)"
   ]
  },
  {
   "cell_type": "markdown",
   "id": "ada5ef0b-711c-4f93-970f-bada1b5c1513",
   "metadata": {},
   "source": [
    "Finalize COOPS dataset"
   ]
  },
  {
   "cell_type": "code",
   "execution_count": 13,
   "id": "676edd93-a203-486f-b2fa-ef9a23bb523d",
   "metadata": {
    "tags": []
   },
   "outputs": [],
   "source": [
    "df_COOPS = pd.DataFrame({'Station_id':coops_water_level.nos_id.values.tolist(),\n",
    "                         'Station_name':st_names,\n",
    "                         'Latitude': coops_water_level.y.values.tolist(),\n",
    "                         'Longitude': coops_water_level.x.values.tolist(),\n",
    "                         'Max_obs_meter': coops_water_level.v.max('t').values.tolist()})\n",
    "\n",
    "df_COOPS['Event'] = f'{storm.name}_{storm.year}'\n",
    "df_COOPS['Source'] = 'COOPS'"
   ]
  },
  {
   "cell_type": "code",
   "execution_count": 14,
   "id": "f6ec14f4-4205-4371-8a4c-68ef628aef04",
   "metadata": {
    "tags": []
   },
   "outputs": [
    {
     "data": {
      "text/html": [
       "<div>\n",
       "<style scoped>\n",
       "    .dataframe tbody tr th:only-of-type {\n",
       "        vertical-align: middle;\n",
       "    }\n",
       "\n",
       "    .dataframe tbody tr th {\n",
       "        vertical-align: top;\n",
       "    }\n",
       "\n",
       "    .dataframe thead th {\n",
       "        text-align: right;\n",
       "    }\n",
       "</style>\n",
       "<table border=\"1\" class=\"dataframe\">\n",
       "  <thead>\n",
       "    <tr style=\"text-align: right;\">\n",
       "      <th></th>\n",
       "      <th>Station_id</th>\n",
       "      <th>Station_name</th>\n",
       "      <th>Latitude</th>\n",
       "      <th>Longitude</th>\n",
       "      <th>Max_obs_meter</th>\n",
       "      <th>Event</th>\n",
       "      <th>Source</th>\n",
       "    </tr>\n",
       "  </thead>\n",
       "  <tbody>\n",
       "    <tr>\n",
       "      <th>0</th>\n",
       "      <td>8652587</td>\n",
       "      <td>Oregon Inlet Marina</td>\n",
       "      <td>35.795689</td>\n",
       "      <td>-75.548187</td>\n",
       "      <td>0.688</td>\n",
       "      <td>FLORENCE_2018</td>\n",
       "      <td>COOPS</td>\n",
       "    </tr>\n",
       "    <tr>\n",
       "      <th>1</th>\n",
       "      <td>8670870</td>\n",
       "      <td>Fort Pulaski</td>\n",
       "      <td>32.034691</td>\n",
       "      <td>-80.903030</td>\n",
       "      <td>1.642</td>\n",
       "      <td>FLORENCE_2018</td>\n",
       "      <td>COOPS</td>\n",
       "    </tr>\n",
       "    <tr>\n",
       "      <th>2</th>\n",
       "      <td>8661070</td>\n",
       "      <td>Springmaid Pier</td>\n",
       "      <td>33.655560</td>\n",
       "      <td>-78.916389</td>\n",
       "      <td>1.326</td>\n",
       "      <td>FLORENCE_2018</td>\n",
       "      <td>COOPS</td>\n",
       "    </tr>\n",
       "    <tr>\n",
       "      <th>3</th>\n",
       "      <td>8656483</td>\n",
       "      <td>Beaufort, Duke Marine Lab</td>\n",
       "      <td>34.717331</td>\n",
       "      <td>-76.670662</td>\n",
       "      <td>1.587</td>\n",
       "      <td>FLORENCE_2018</td>\n",
       "      <td>COOPS</td>\n",
       "    </tr>\n",
       "    <tr>\n",
       "      <th>4</th>\n",
       "      <td>8665530</td>\n",
       "      <td>Charleston</td>\n",
       "      <td>32.780830</td>\n",
       "      <td>-79.923607</td>\n",
       "      <td>1.341</td>\n",
       "      <td>FLORENCE_2018</td>\n",
       "      <td>COOPS</td>\n",
       "    </tr>\n",
       "    <tr>\n",
       "      <th>5</th>\n",
       "      <td>8658120</td>\n",
       "      <td>Wilmington</td>\n",
       "      <td>34.227501</td>\n",
       "      <td>-77.953613</td>\n",
       "      <td>1.731</td>\n",
       "      <td>FLORENCE_2018</td>\n",
       "      <td>COOPS</td>\n",
       "    </tr>\n",
       "    <tr>\n",
       "      <th>6</th>\n",
       "      <td>8658163</td>\n",
       "      <td>Wrightsville Beach</td>\n",
       "      <td>34.213310</td>\n",
       "      <td>-77.786690</td>\n",
       "      <td>1.778</td>\n",
       "      <td>FLORENCE_2018</td>\n",
       "      <td>COOPS</td>\n",
       "    </tr>\n",
       "    <tr>\n",
       "      <th>7</th>\n",
       "      <td>8654467</td>\n",
       "      <td>USCG Station Hatteras</td>\n",
       "      <td>35.208611</td>\n",
       "      <td>-75.704193</td>\n",
       "      <td>0.615</td>\n",
       "      <td>FLORENCE_2018</td>\n",
       "      <td>COOPS</td>\n",
       "    </tr>\n",
       "    <tr>\n",
       "      <th>8</th>\n",
       "      <td>8651370</td>\n",
       "      <td>Duck</td>\n",
       "      <td>36.183300</td>\n",
       "      <td>-75.746696</td>\n",
       "      <td>1.195</td>\n",
       "      <td>FLORENCE_2018</td>\n",
       "      <td>COOPS</td>\n",
       "    </tr>\n",
       "  </tbody>\n",
       "</table>\n",
       "</div>"
      ],
      "text/plain": [
       "  Station_id               Station_name   Latitude  Longitude  Max_obs_meter  \\\n",
       "0    8652587        Oregon Inlet Marina  35.795689 -75.548187          0.688   \n",
       "1    8670870               Fort Pulaski  32.034691 -80.903030          1.642   \n",
       "2    8661070            Springmaid Pier  33.655560 -78.916389          1.326   \n",
       "3    8656483  Beaufort, Duke Marine Lab  34.717331 -76.670662          1.587   \n",
       "4    8665530                 Charleston  32.780830 -79.923607          1.341   \n",
       "5    8658120                 Wilmington  34.227501 -77.953613          1.731   \n",
       "6    8658163         Wrightsville Beach  34.213310 -77.786690          1.778   \n",
       "7    8654467      USCG Station Hatteras  35.208611 -75.704193          0.615   \n",
       "8    8651370                       Duck  36.183300 -75.746696          1.195   \n",
       "\n",
       "           Event Source  \n",
       "0  FLORENCE_2018  COOPS  \n",
       "1  FLORENCE_2018  COOPS  \n",
       "2  FLORENCE_2018  COOPS  \n",
       "3  FLORENCE_2018  COOPS  \n",
       "4  FLORENCE_2018  COOPS  \n",
       "5  FLORENCE_2018  COOPS  \n",
       "6  FLORENCE_2018  COOPS  \n",
       "7  FLORENCE_2018  COOPS  \n",
       "8  FLORENCE_2018  COOPS  "
      ]
     },
     "execution_count": 14,
     "metadata": {},
     "output_type": "execute_result"
    }
   ],
   "source": [
    "df_COOPS"
   ]
  },
  {
   "cell_type": "markdown",
   "id": "498bfe88-8bc4-427d-a02c-0a3b6f524e3e",
   "metadata": {},
   "source": [
    "## USGS Sensors' Max Elevations"
   ]
  },
  {
   "cell_type": "markdown",
   "id": "9c70bcc3-5dca-4f64-8123-75bce641e5ae",
   "metadata": {},
   "source": [
    "First check it there are USGS data records available for the storm"
   ]
  },
  {
   "cell_type": "code",
   "execution_count": 15,
   "id": "d94f9c0f-76d0-4865-ac37-2ffe4f52171d",
   "metadata": {
    "tags": []
   },
   "outputs": [
    {
     "name": "stderr",
     "output_type": "stream",
     "text": [
      "/root/miniconda3/envs/nhc_colab/lib/python3.10/site-packages/stormevents/nhc/storms.py:64: FutureWarning: The argument 'date_parser' is deprecated and will be removed in a future version. Please use 'date_format' instead, or read your data in as 'object' dtype and then call 'to_datetime'.\n",
      "  storms = pandas.read_csv(\n"
     ]
    }
   ],
   "source": [
    "if storm.usgs_id is None:\n",
    "    print(f\"USGS data records are not available for {storm.name}_{storm.year}\")"
   ]
  },
  {
   "cell_type": "markdown",
   "id": "555cfb36-ac3e-407b-ac3c-5c0484696b7c",
   "metadata": {},
   "source": [
    "Get specification of instruments used for a given event"
   ]
  },
  {
   "cell_type": "code",
   "execution_count": 16,
   "id": "8a7dca33-c01d-427a-9c84-380b9d165c47",
   "metadata": {
    "tags": []
   },
   "outputs": [],
   "source": [
    "instruments = requests.get('https://stn.wim.usgs.gov/STNServices/Instruments/FilteredInstruments.json')\n",
    "df_inst = pd.DataFrame(instruments.json())"
   ]
  },
  {
   "cell_type": "markdown",
   "id": "b52dee23-e4c2-4383-80e0-500d9827f77e",
   "metadata": {},
   "source": [
    "filter instruments for a specific storm/application"
   ]
  },
  {
   "cell_type": "code",
   "execution_count": 17,
   "id": "2c8f0ebc-e0b1-43f8-8d45-5c641e493d5c",
   "metadata": {
    "tags": []
   },
   "outputs": [],
   "source": [
    "eventName = f'{storm.year} {storm.name.capitalize()}'\n",
    "sensor_type_id = sensors.SensorType.PRESSURE_TRANSDUCER.value\n",
    "deployment_type_id = [sensors.DeploymentType.WATER_LEVEL.value, sensors.DeploymentType.WAVE_HEIGHT.value]"
   ]
  },
  {
   "cell_type": "code",
   "execution_count": 18,
   "id": "6919fe02-36a5-4cc6-bbfa-ef17683a2647",
   "metadata": {
    "tags": []
   },
   "outputs": [],
   "source": [
    "mask_inst = (\n",
    "    df_inst['sensor_type_id']==sensor_type_id\n",
    ") & (\n",
    "    df_inst['eventName']==eventName\n",
    ") & (\n",
    "    (df_inst['deployment_type_id'].isin(deployment_type_id))\n",
    ")"
   ]
  },
  {
   "cell_type": "code",
   "execution_count": 19,
   "id": "c68b0fbe-5813-488e-8ca8-89886aba9604",
   "metadata": {
    "tags": []
   },
   "outputs": [],
   "source": [
    "df_inst = df_inst[mask_inst]"
   ]
  },
  {
   "cell_type": "code",
   "execution_count": 20,
   "id": "b1366a00-2e94-4af9-8c6d-d0a659870466",
   "metadata": {
    "tags": []
   },
   "outputs": [],
   "source": [
    "site_id = df_inst.site_id.values  # will be used for files retrieval"
   ]
  },
  {
   "cell_type": "markdown",
   "id": "1f8cb929-b10c-435e-9be9-68e329004406",
   "metadata": {},
   "source": [
    "Then retrieve list of files corresponding to these sensors during the event"
   ]
  },
  {
   "cell_type": "code",
   "execution_count": 21,
   "id": "e68638c0-1e2c-4e3c-aacc-e3113fc3833e",
   "metadata": {
    "tags": []
   },
   "outputs": [],
   "source": [
    "files = requests.get('https://stn.wim.usgs.gov/STNServices/Files.json')\n",
    "df_files = pd.DataFrame(files.json())"
   ]
  },
  {
   "cell_type": "markdown",
   "id": "8c2c37ea-aa05-4910-a717-554b5b23d51b",
   "metadata": {},
   "source": [
    "filter files for a storm/sensors"
   ]
  },
  {
   "cell_type": "code",
   "execution_count": 22,
   "id": "f2079b0b-8229-4ce3-98ba-d605b26bd319",
   "metadata": {
    "tags": []
   },
   "outputs": [],
   "source": [
    "if storm.year < 2015:\n",
    "    # old file format\n",
    "    mask_file = (\n",
    "        df_files['site_id'].isin(site_id)\n",
    "    ) & (\n",
    "        df_files['name'].str.contains(\".txt\")\n",
    "    ) & (\n",
    "        df_files['path'].str.contains(f\"EVENT_{storm.usgs_id}\")\n",
    "    )\n",
    "else:\n",
    "    # new file format:\n",
    "    mask_file = (\n",
    "        df_files['site_id'].isin(site_id)\n",
    "    ) & (\n",
    "        df_files['name'].str.contains(\"stormtide_unfiltered.nc\")\n",
    "    ) & (\n",
    "        df_files['path'].str.contains(f\"EVENT_{storm.usgs_id}\")\n",
    "    )"
   ]
  },
  {
   "cell_type": "code",
   "execution_count": 23,
   "id": "85483427-c5d4-4f96-874d-51f163f94abf",
   "metadata": {
    "tags": []
   },
   "outputs": [],
   "source": [
    "df_files = df_files[mask_file]"
   ]
  },
  {
   "cell_type": "code",
   "execution_count": 24,
   "id": "9e42d8e6-4683-4a53-8489-4e36f61adecb",
   "metadata": {
    "tags": []
   },
   "outputs": [],
   "source": [
    "df_files = df_files.drop_duplicates(subset=['name']) # drop duplicate files"
   ]
  },
  {
   "cell_type": "markdown",
   "id": "db60f676-12eb-40d2-aa34-3d0e9de70688",
   "metadata": {},
   "source": [
    "Finally, loop through filtered files and obtain max elevations"
   ]
  },
  {
   "cell_type": "code",
   "execution_count": 25,
   "id": "0ae41fb0-39a9-4aa7-bba9-b3404df5d682",
   "metadata": {
    "tags": []
   },
   "outputs": [],
   "source": [
    "fs = fsspec.filesystem('simplecache', target_protocol='http')"
   ]
  },
  {
   "cell_type": "markdown",
   "id": "d915d3da-d940-4680-b844-ae327c860cfe",
   "metadata": {
    "tags": []
   },
   "source": [
    "***Storm After 2015***"
   ]
  },
  {
   "cell_type": "code",
   "execution_count": 26,
   "id": "b095e021-034b-47a1-adaf-9af42660b7ca",
   "metadata": {},
   "outputs": [],
   "source": [
    "# filterd elevations in [m]\n",
    "\n",
    "if storm.year >= 2015:\n",
    "    file_id_list = []\n",
    "    name_list = []\n",
    "    site_id_list = []\n",
    "    max_ele_unfilter_list = []\n",
    "    max_ele_filter_list = []\n",
    "\n",
    "    for index, row in df_files.iterrows():\n",
    "        file_id = row['file_id']\n",
    "        name = row['name']\n",
    "        file_site_id = row['site_id']\n",
    "\n",
    "        try:\n",
    "            f_temp = fs.open(f'https://stn.wim.usgs.gov/STNServices/Files/{file_id}/Item')\n",
    "            ds_temp = xr.open_dataset(f_temp.name, engine='netcdf4')\n",
    "            temp_max_unfilter = ds_temp['unfiltered_water_surface_height_above_reference_datum'].max('time').values.tolist()\n",
    "            temp_max_filter = ds_temp['water_surface_height_above_reference_datum'].max('time').values.tolist()\n",
    "\n",
    "            file_id_list.append(file_id)\n",
    "            name_list.append(name)\n",
    "            site_id_list.append(file_site_id)\n",
    "            max_ele_unfilter_list.append(temp_max_unfilter)\n",
    "            max_ele_filter_list.append(temp_max_filter)\n",
    "        except:\n",
    "            print(f\"Couldn't find file/max_elev for a file named: {name}\") "
   ]
  },
  {
   "cell_type": "markdown",
   "id": "66fcf65b-b12f-43f9-b1e6-14c0628443de",
   "metadata": {},
   "source": [
    "***Storms Between 2010 and 2015***"
   ]
  },
  {
   "cell_type": "code",
   "execution_count": 27,
   "id": "0c7acd3b-9d5c-42e1-9f57-59e8740541f1",
   "metadata": {
    "tags": []
   },
   "outputs": [],
   "source": [
    "# only unfiltered for now!\n",
    "\n",
    "if (2010< storm.year <2015):\n",
    "    file_id_list = []\n",
    "    name_list = []\n",
    "    site_id_list = []\n",
    "    max_ele_unfilter_list = []\n",
    "    max_ele_filter_list = []\n",
    "\n",
    "    for index, row in df_files.iterrows():\n",
    "        file_id = row['file_id']\n",
    "        name = row['name']\n",
    "        file_site_id = row['site_id']\n",
    "\n",
    "        try:\n",
    "            f_temp = fs.open(f'https://stn.wim.usgs.gov/STNServices/Files/{file_id}/Item')\n",
    "            ds_temp = pd.read_csv(f_temp, sep='\\t') # first read the entrie file\n",
    "            skiprows = 1 + (ds_temp[ds_temp['Unnamed: 1']=='elevation'].index.values[0]) # find how many rows should be skipped\n",
    "\n",
    "            f_temp = fs.open(f'https://stn.wim.usgs.gov/STNServices/Files/{file_id}/Item') # then open it again and skip headers \n",
    "            ds_temp = pd.read_csv(f_temp, skiprows=skiprows, sep='\\t')\n",
    "\n",
    "            temp_max_unfilter = ds_temp['elevation'].max()\n",
    "            temp_max_filter = temp_max_unfilter * 0.3048 # to convert ft to meter\n",
    "\n",
    "            file_id_list.append(file_id)\n",
    "            name_list.append(name)\n",
    "            site_id_list.append(file_site_id)\n",
    "            max_ele_unfilter_list.append(temp_max_unfilter)\n",
    "            max_ele_filter_list.append(temp_max_filter)\n",
    "        except:\n",
    "            print(f\"Couldn't find file/max_elev for a file_id: {file_id} ; name: {name}\") "
   ]
  },
  {
   "cell_type": "markdown",
   "id": "1a4ef9b6-1341-4a53-943f-72da370387d0",
   "metadata": {
    "tags": []
   },
   "source": [
    "***Storm Before 2010***"
   ]
  },
  {
   "cell_type": "code",
   "execution_count": 28,
   "id": "2a9a354b-59d4-47c5-87ff-42e4ed9dc4a2",
   "metadata": {
    "tags": []
   },
   "outputs": [],
   "source": [
    "# (only unfiltered for now)!\n",
    "\n",
    "if storm.year <2010:\n",
    "    file_id_list = []\n",
    "    name_list = []\n",
    "    site_id_list = []\n",
    "    max_ele_unfilter_list = []\n",
    "    max_ele_filter_list = []\n",
    "\n",
    "    for index, row in df_files.iterrows():\n",
    "        file_id = row['file_id']\n",
    "        name = row['name']\n",
    "        file_site_id = row['site_id']\n",
    "\n",
    "        try:\n",
    "            f_temp = fs.open(f'https://stn.wim.usgs.gov/STNServices/Files/{file_id}/Item')       \n",
    "            ds_temp = pd.read_csv(f_temp, delimiter='\\t', skiprows=27, on_bad_lines='skip')\n",
    "            temp_max_unfilter = ds_temp['elevation'].max()\n",
    "            temp_max_filter = temp_max_unfilter * 0.3048 # to convert ft to meter\n",
    "\n",
    "            file_id_list.append(file_id)\n",
    "            name_list.append(name)\n",
    "            site_id_list.append(file_site_id)\n",
    "            max_ele_unfilter_list.append(temp_max_unfilter)\n",
    "            max_ele_filter_list.append(temp_max_filter)\n",
    "        except:\n",
    "            print(f\"Couldn't find file/max_elev for a file_id: {file_id} ; name: {name}\") "
   ]
  },
  {
   "cell_type": "code",
   "execution_count": 29,
   "id": "e211897c-59a6-4dcf-9307-c6d45d53d96e",
   "metadata": {
    "tags": []
   },
   "outputs": [],
   "source": [
    "df_tmp = pd.DataFrame({'file_id':file_id_list,\n",
    "                       'name':name_list, \n",
    "                       'site_id':site_id_list, \n",
    "                       'max_elev_unfiltered':max_ele_unfilter_list,\n",
    "                       'max_elev_filtered':max_ele_filter_list\n",
    "                      })"
   ]
  },
  {
   "cell_type": "code",
   "execution_count": 30,
   "id": "a0e77262-1a29-4a3e-8973-bf8b807297fb",
   "metadata": {
    "tags": []
   },
   "outputs": [],
   "source": [
    "# merge sensor max elevation table with instrument table\n",
    "df_tmp = pd.merge(df_tmp,df_inst,on='site_id', how=\"left\")"
   ]
  },
  {
   "cell_type": "code",
   "execution_count": 31,
   "id": "c26d4a20-8755-4735-9466-bb0219cc2a47",
   "metadata": {
    "tags": []
   },
   "outputs": [],
   "source": [
    "df_USGS = pd.DataFrame()\n",
    "df_USGS['Station_id'] = df_tmp['site_id']\n",
    "df_USGS['Station_name'] = df_tmp['name']\n",
    "df_USGS['Latitude'] = df_tmp['latitude']\n",
    "df_USGS['Longitude'] = df_tmp['longitude']\n",
    "df_USGS['Max_obs_meter'] = df_tmp['max_elev_filtered']\n",
    "df_USGS['Event'] = f'{storm.name}_{storm.year}'\n",
    "df_USGS['Source'] = 'USGS'"
   ]
  },
  {
   "cell_type": "code",
   "execution_count": 32,
   "id": "3f83924e-b9b2-421c-9577-d2ff8660ab77",
   "metadata": {
    "tags": []
   },
   "outputs": [],
   "source": [
    "# Remove duplicate records (if any) \n",
    "if df_USGS.Station_name.duplicated().any():\n",
    "    df_USGS = df_USGS.drop_duplicates(subset=['Station_name'])"
   ]
  },
  {
   "cell_type": "code",
   "execution_count": 33,
   "id": "0afa1f84-a137-4934-9029-1082921ba82c",
   "metadata": {
    "tags": []
   },
   "outputs": [
    {
     "data": {
      "text/html": [
       "<div>\n",
       "<style scoped>\n",
       "    .dataframe tbody tr th:only-of-type {\n",
       "        vertical-align: middle;\n",
       "    }\n",
       "\n",
       "    .dataframe tbody tr th {\n",
       "        vertical-align: top;\n",
       "    }\n",
       "\n",
       "    .dataframe thead th {\n",
       "        text-align: right;\n",
       "    }\n",
       "</style>\n",
       "<table border=\"1\" class=\"dataframe\">\n",
       "  <thead>\n",
       "    <tr style=\"text-align: right;\">\n",
       "      <th></th>\n",
       "      <th>Station_id</th>\n",
       "      <th>Station_name</th>\n",
       "      <th>Latitude</th>\n",
       "      <th>Longitude</th>\n",
       "      <th>Max_obs_meter</th>\n",
       "      <th>Event</th>\n",
       "      <th>Source</th>\n",
       "    </tr>\n",
       "  </thead>\n",
       "  <tbody>\n",
       "    <tr>\n",
       "      <th>0</th>\n",
       "      <td>17814</td>\n",
       "      <td>Little_Neck_FinalWL_stormtide_unfiltered.nc</td>\n",
       "      <td>36.855627</td>\n",
       "      <td>-75.983591</td>\n",
       "      <td>0.732928</td>\n",
       "      <td>FLORENCE_2018</td>\n",
       "      <td>USGS</td>\n",
       "    </tr>\n",
       "    <tr>\n",
       "      <th>1</th>\n",
       "      <td>6801</td>\n",
       "      <td>Back_stormtide_unfiltered.nc</td>\n",
       "      <td>37.110683</td>\n",
       "      <td>-76.319072</td>\n",
       "      <td>0.883321</td>\n",
       "      <td>FLORENCE_2018</td>\n",
       "      <td>USGS</td>\n",
       "    </tr>\n",
       "    <tr>\n",
       "      <th>2</th>\n",
       "      <td>26859</td>\n",
       "      <td>365017076174700_stormtide_unfiltered.nc</td>\n",
       "      <td>36.838310</td>\n",
       "      <td>-76.296650</td>\n",
       "      <td>0.893117</td>\n",
       "      <td>FLORENCE_2018</td>\n",
       "      <td>USGS</td>\n",
       "    </tr>\n",
       "    <tr>\n",
       "      <th>3</th>\n",
       "      <td>22567</td>\n",
       "      <td>01670060_stormtide_unfiltered.nc</td>\n",
       "      <td>37.379080</td>\n",
       "      <td>-76.426110</td>\n",
       "      <td>1.054975</td>\n",
       "      <td>FLORENCE_2018</td>\n",
       "      <td>USGS</td>\n",
       "    </tr>\n",
       "    <tr>\n",
       "      <th>4</th>\n",
       "      <td>14326</td>\n",
       "      <td>SCHOR14326_20180919_stormtide_unfiltered.nc</td>\n",
       "      <td>33.888333</td>\n",
       "      <td>-78.592778</td>\n",
       "      <td>1.842404</td>\n",
       "      <td>FLORENCE_2018</td>\n",
       "      <td>USGS</td>\n",
       "    </tr>\n",
       "    <tr>\n",
       "      <th>...</th>\n",
       "      <td>...</td>\n",
       "      <td>...</td>\n",
       "      <td>...</td>\n",
       "      <td>...</td>\n",
       "      <td>...</td>\n",
       "      <td>...</td>\n",
       "      <td>...</td>\n",
       "    </tr>\n",
       "    <tr>\n",
       "      <th>165</th>\n",
       "      <td>27844</td>\n",
       "      <td>NCNEW27844_stormtide_unfiltered.nc</td>\n",
       "      <td>34.209218</td>\n",
       "      <td>-77.792989</td>\n",
       "      <td>2.955151</td>\n",
       "      <td>FLORENCE_2018</td>\n",
       "      <td>USGS</td>\n",
       "    </tr>\n",
       "    <tr>\n",
       "      <th>166</th>\n",
       "      <td>27847</td>\n",
       "      <td>NCNEW27847_stormtide_unfiltered.nc</td>\n",
       "      <td>34.210384</td>\n",
       "      <td>-77.795025</td>\n",
       "      <td>1.897711</td>\n",
       "      <td>FLORENCE_2018</td>\n",
       "      <td>USGS</td>\n",
       "    </tr>\n",
       "    <tr>\n",
       "      <th>167</th>\n",
       "      <td>27848</td>\n",
       "      <td>NCNEW27848_stormtide_unfiltered.nc</td>\n",
       "      <td>34.211816</td>\n",
       "      <td>-77.797411</td>\n",
       "      <td>2.012863</td>\n",
       "      <td>FLORENCE_2018</td>\n",
       "      <td>USGS</td>\n",
       "    </tr>\n",
       "    <tr>\n",
       "      <th>168</th>\n",
       "      <td>27845</td>\n",
       "      <td>NCNEW27845_stormtide_unfiltered.nc</td>\n",
       "      <td>34.212415</td>\n",
       "      <td>-77.798486</td>\n",
       "      <td>1.945491</td>\n",
       "      <td>FLORENCE_2018</td>\n",
       "      <td>USGS</td>\n",
       "    </tr>\n",
       "    <tr>\n",
       "      <th>169</th>\n",
       "      <td>27846</td>\n",
       "      <td>NCNEW27846_stormtide_unfiltered.nc</td>\n",
       "      <td>34.215271</td>\n",
       "      <td>-77.804388</td>\n",
       "      <td>3.230265</td>\n",
       "      <td>FLORENCE_2018</td>\n",
       "      <td>USGS</td>\n",
       "    </tr>\n",
       "  </tbody>\n",
       "</table>\n",
       "<p>170 rows × 7 columns</p>\n",
       "</div>"
      ],
      "text/plain": [
       "     Station_id                                 Station_name   Latitude  \\\n",
       "0         17814  Little_Neck_FinalWL_stormtide_unfiltered.nc  36.855627   \n",
       "1          6801                 Back_stormtide_unfiltered.nc  37.110683   \n",
       "2         26859      365017076174700_stormtide_unfiltered.nc  36.838310   \n",
       "3         22567             01670060_stormtide_unfiltered.nc  37.379080   \n",
       "4         14326  SCHOR14326_20180919_stormtide_unfiltered.nc  33.888333   \n",
       "..          ...                                          ...        ...   \n",
       "165       27844           NCNEW27844_stormtide_unfiltered.nc  34.209218   \n",
       "166       27847           NCNEW27847_stormtide_unfiltered.nc  34.210384   \n",
       "167       27848           NCNEW27848_stormtide_unfiltered.nc  34.211816   \n",
       "168       27845           NCNEW27845_stormtide_unfiltered.nc  34.212415   \n",
       "169       27846           NCNEW27846_stormtide_unfiltered.nc  34.215271   \n",
       "\n",
       "     Longitude  Max_obs_meter          Event Source  \n",
       "0   -75.983591       0.732928  FLORENCE_2018   USGS  \n",
       "1   -76.319072       0.883321  FLORENCE_2018   USGS  \n",
       "2   -76.296650       0.893117  FLORENCE_2018   USGS  \n",
       "3   -76.426110       1.054975  FLORENCE_2018   USGS  \n",
       "4   -78.592778       1.842404  FLORENCE_2018   USGS  \n",
       "..         ...            ...            ...    ...  \n",
       "165 -77.792989       2.955151  FLORENCE_2018   USGS  \n",
       "166 -77.795025       1.897711  FLORENCE_2018   USGS  \n",
       "167 -77.797411       2.012863  FLORENCE_2018   USGS  \n",
       "168 -77.798486       1.945491  FLORENCE_2018   USGS  \n",
       "169 -77.804388       3.230265  FLORENCE_2018   USGS  \n",
       "\n",
       "[170 rows x 7 columns]"
      ]
     },
     "execution_count": 33,
     "metadata": {},
     "output_type": "execute_result"
    }
   ],
   "source": [
    "df_USGS"
   ]
  },
  {
   "cell_type": "markdown",
   "id": "354c3d62-a65c-4410-bbb6-d75be60dfaec",
   "metadata": {},
   "source": [
    "**Combine Datasets**"
   ]
  },
  {
   "cell_type": "code",
   "execution_count": 34,
   "id": "1198149a-85b5-47d8-82da-a19db325262e",
   "metadata": {
    "tags": []
   },
   "outputs": [],
   "source": [
    "if storm.usgs_id is None:\n",
    "    df_obs = df_COOPS\n",
    "else:\n",
    "    df_obs = pd.concat([df_COOPS,df_USGS])"
   ]
  },
  {
   "cell_type": "markdown",
   "id": "50362874-eb0d-4dcc-8202-9aa0f8a68d5f",
   "metadata": {
    "tags": []
   },
   "source": [
    "**Quality control**"
   ]
  },
  {
   "cell_type": "code",
   "execution_count": 35,
   "id": "e54c2d7d-0767-4093-9333-c16337a57131",
   "metadata": {
    "tags": []
   },
   "outputs": [
    {
     "data": {
      "text/plain": [
       "<Axes: xlabel='Source', ylabel='Max_obs_meter'>"
      ]
     },
     "execution_count": 35,
     "metadata": {},
     "output_type": "execute_result"
    },
    {
     "data": {
      "image/png": "[encoded data removed]",
      "text/plain": [
       "<Figure size 640x480 with 1 Axes>"
      ]
     },
     "metadata": {},
     "output_type": "display_data"
    }
   ],
   "source": [
    "df_obs.plot.scatter(x='Source', y='Max_obs_meter')"
   ]
  },
  {
   "cell_type": "code",
   "execution_count": 36,
   "id": "4677d539-34d6-449c-8333-a0ecf4bf2809",
   "metadata": {
    "tags": []
   },
   "outputs": [],
   "source": [
    "# Remove outliers and negative values \n",
    "# values bigger than 10*median are considered as outlier\n",
    "mask_qc = (\n",
    "    df_obs['Max_obs_meter'] > 0\n",
    ") & (\n",
    "    df_obs['Max_obs_meter'] < (10*df_obs['Max_obs_meter'].median())\n",
    ")"
   ]
  },
  {
   "cell_type": "code",
   "execution_count": 37,
   "id": "5db42a87-5b09-4b9b-aaf3-1b6519b09c15",
   "metadata": {
    "tags": []
   },
   "outputs": [
    {
     "data": {
      "text/html": [
       "<div>\n",
       "<style scoped>\n",
       "    .dataframe tbody tr th:only-of-type {\n",
       "        vertical-align: middle;\n",
       "    }\n",
       "\n",
       "    .dataframe tbody tr th {\n",
       "        vertical-align: top;\n",
       "    }\n",
       "\n",
       "    .dataframe thead th {\n",
       "        text-align: right;\n",
       "    }\n",
       "</style>\n",
       "<table border=\"1\" class=\"dataframe\">\n",
       "  <thead>\n",
       "    <tr style=\"text-align: right;\">\n",
       "      <th></th>\n",
       "      <th>Station_id</th>\n",
       "      <th>Station_name</th>\n",
       "      <th>Latitude</th>\n",
       "      <th>Longitude</th>\n",
       "      <th>Max_obs_meter</th>\n",
       "      <th>Event</th>\n",
       "      <th>Source</th>\n",
       "    </tr>\n",
       "  </thead>\n",
       "  <tbody>\n",
       "    <tr>\n",
       "      <th>0</th>\n",
       "      <td>8652587</td>\n",
       "      <td>Oregon Inlet Marina</td>\n",
       "      <td>35.795689</td>\n",
       "      <td>-75.548187</td>\n",
       "      <td>0.688000</td>\n",
       "      <td>FLORENCE_2018</td>\n",
       "      <td>COOPS</td>\n",
       "    </tr>\n",
       "    <tr>\n",
       "      <th>1</th>\n",
       "      <td>8670870</td>\n",
       "      <td>Fort Pulaski</td>\n",
       "      <td>32.034691</td>\n",
       "      <td>-80.903030</td>\n",
       "      <td>1.642000</td>\n",
       "      <td>FLORENCE_2018</td>\n",
       "      <td>COOPS</td>\n",
       "    </tr>\n",
       "    <tr>\n",
       "      <th>2</th>\n",
       "      <td>8661070</td>\n",
       "      <td>Springmaid Pier</td>\n",
       "      <td>33.655560</td>\n",
       "      <td>-78.916389</td>\n",
       "      <td>1.326000</td>\n",
       "      <td>FLORENCE_2018</td>\n",
       "      <td>COOPS</td>\n",
       "    </tr>\n",
       "    <tr>\n",
       "      <th>3</th>\n",
       "      <td>8656483</td>\n",
       "      <td>Beaufort, Duke Marine Lab</td>\n",
       "      <td>34.717331</td>\n",
       "      <td>-76.670662</td>\n",
       "      <td>1.587000</td>\n",
       "      <td>FLORENCE_2018</td>\n",
       "      <td>COOPS</td>\n",
       "    </tr>\n",
       "    <tr>\n",
       "      <th>4</th>\n",
       "      <td>8665530</td>\n",
       "      <td>Charleston</td>\n",
       "      <td>32.780830</td>\n",
       "      <td>-79.923607</td>\n",
       "      <td>1.341000</td>\n",
       "      <td>FLORENCE_2018</td>\n",
       "      <td>COOPS</td>\n",
       "    </tr>\n",
       "    <tr>\n",
       "      <th>...</th>\n",
       "      <td>...</td>\n",
       "      <td>...</td>\n",
       "      <td>...</td>\n",
       "      <td>...</td>\n",
       "      <td>...</td>\n",
       "      <td>...</td>\n",
       "      <td>...</td>\n",
       "    </tr>\n",
       "    <tr>\n",
       "      <th>172</th>\n",
       "      <td>27844</td>\n",
       "      <td>NCNEW27844_stormtide_unfiltered.nc</td>\n",
       "      <td>34.209218</td>\n",
       "      <td>-77.792989</td>\n",
       "      <td>2.955151</td>\n",
       "      <td>FLORENCE_2018</td>\n",
       "      <td>USGS</td>\n",
       "    </tr>\n",
       "    <tr>\n",
       "      <th>173</th>\n",
       "      <td>27847</td>\n",
       "      <td>NCNEW27847_stormtide_unfiltered.nc</td>\n",
       "      <td>34.210384</td>\n",
       "      <td>-77.795025</td>\n",
       "      <td>1.897711</td>\n",
       "      <td>FLORENCE_2018</td>\n",
       "      <td>USGS</td>\n",
       "    </tr>\n",
       "    <tr>\n",
       "      <th>174</th>\n",
       "      <td>27848</td>\n",
       "      <td>NCNEW27848_stormtide_unfiltered.nc</td>\n",
       "      <td>34.211816</td>\n",
       "      <td>-77.797411</td>\n",
       "      <td>2.012863</td>\n",
       "      <td>FLORENCE_2018</td>\n",
       "      <td>USGS</td>\n",
       "    </tr>\n",
       "    <tr>\n",
       "      <th>175</th>\n",
       "      <td>27845</td>\n",
       "      <td>NCNEW27845_stormtide_unfiltered.nc</td>\n",
       "      <td>34.212415</td>\n",
       "      <td>-77.798486</td>\n",
       "      <td>1.945491</td>\n",
       "      <td>FLORENCE_2018</td>\n",
       "      <td>USGS</td>\n",
       "    </tr>\n",
       "    <tr>\n",
       "      <th>176</th>\n",
       "      <td>27846</td>\n",
       "      <td>NCNEW27846_stormtide_unfiltered.nc</td>\n",
       "      <td>34.215271</td>\n",
       "      <td>-77.804388</td>\n",
       "      <td>3.230265</td>\n",
       "      <td>FLORENCE_2018</td>\n",
       "      <td>USGS</td>\n",
       "    </tr>\n",
       "  </tbody>\n",
       "</table>\n",
       "<p>177 rows × 7 columns</p>\n",
       "</div>"
      ],
      "text/plain": [
       "    Station_id                        Station_name   Latitude  Longitude  \\\n",
       "0      8652587                 Oregon Inlet Marina  35.795689 -75.548187   \n",
       "1      8670870                        Fort Pulaski  32.034691 -80.903030   \n",
       "2      8661070                     Springmaid Pier  33.655560 -78.916389   \n",
       "3      8656483           Beaufort, Duke Marine Lab  34.717331 -76.670662   \n",
       "4      8665530                          Charleston  32.780830 -79.923607   \n",
       "..         ...                                 ...        ...        ...   \n",
       "172      27844  NCNEW27844_stormtide_unfiltered.nc  34.209218 -77.792989   \n",
       "173      27847  NCNEW27847_stormtide_unfiltered.nc  34.210384 -77.795025   \n",
       "174      27848  NCNEW27848_stormtide_unfiltered.nc  34.211816 -77.797411   \n",
       "175      27845  NCNEW27845_stormtide_unfiltered.nc  34.212415 -77.798486   \n",
       "176      27846  NCNEW27846_stormtide_unfiltered.nc  34.215271 -77.804388   \n",
       "\n",
       "     Max_obs_meter          Event Source  \n",
       "0         0.688000  FLORENCE_2018  COOPS  \n",
       "1         1.642000  FLORENCE_2018  COOPS  \n",
       "2         1.326000  FLORENCE_2018  COOPS  \n",
       "3         1.587000  FLORENCE_2018  COOPS  \n",
       "4         1.341000  FLORENCE_2018  COOPS  \n",
       "..             ...            ...    ...  \n",
       "172       2.955151  FLORENCE_2018   USGS  \n",
       "173       1.897711  FLORENCE_2018   USGS  \n",
       "174       2.012863  FLORENCE_2018   USGS  \n",
       "175       1.945491  FLORENCE_2018   USGS  \n",
       "176       3.230265  FLORENCE_2018   USGS  \n",
       "\n",
       "[177 rows x 7 columns]"
      ]
     },
     "execution_count": 37,
     "metadata": {},
     "output_type": "execute_result"
    }
   ],
   "source": [
    "df_obs = df_obs[mask_qc]\n",
    "df_obs = df_obs.reset_index(drop=True)\n",
    "df_obs"
   ]
  },
  {
   "cell_type": "markdown",
   "id": "358440aa-6e0b-4373-b1f5-31caeeacad55",
   "metadata": {},
   "source": [
    "**Plot Observation Points**"
   ]
  },
  {
   "cell_type": "code",
   "execution_count": 38,
   "id": "0bad1192-33cc-4a3a-aee9-7606d12ed783",
   "metadata": {
    "tags": []
   },
   "outputs": [],
   "source": [
    "gdf_countries = gpd.GeoSeries(NaturalEarthFeature(category='physical', \n",
    "                                                  scale='10m', \n",
    "                                                  name='land',\n",
    "                                                 ).geometries(), \n",
    "                              crs=4326)"
   ]
  },
  {
   "cell_type": "code",
   "execution_count": 39,
   "id": "69ef0927-c594-48ff-91e0-878ebbbf02da",
   "metadata": {
    "tags": []
   },
   "outputs": [
    {
     "data": {
      "image/png": "[encoded data removed]",
      "text/plain": [
       "<Figure size 1200x750 with 1 Axes>"
      ]
     },
     "metadata": {},
     "output_type": "display_data"
    }
   ],
   "source": [
    "plot_stations(df_obs,storm_best_track)"
   ]
  },
  {
   "cell_type": "markdown",
   "id": "5455ca75-61e9-4e74-9088-27b09b1fce8a",
   "metadata": {},
   "source": [
    "**Save Filtered Max Elevations**"
   ]
  },
  {
   "cell_type": "code",
   "execution_count": 40,
   "id": "cc6055ec-aeb9-4501-837f-b72f52c37cec",
   "metadata": {
    "tags": []
   },
   "outputs": [],
   "source": [
    "df_obs.to_csv(f'obs_{storm.name}_{storm.year}.csv')"
   ]
  },
  {
   "cell_type": "code",
   "execution_count": null,
   "id": "6489b0aa-c86b-4adf-8449-b613fe9d1835",
   "metadata": {},
   "outputs": [],
   "source": []
  }
 ],
 "metadata": {
  "kernelspec": {
   "display_name": "Python 3 (ipykernel)",
   "language": "python",
   "name": "python3"
  },
  "language_info": {
   "codemirror_mode": {
    "name": "ipython",
    "version": 3
   },
   "file_extension": ".py",
   "mimetype": "text/x-python",
   "name": "python",
   "nbconvert_exporter": "python",
   "pygments_lexer": "ipython3",
   "version": "3.10.12"
  }
 },
 "nbformat": 4,
 "nbformat_minor": 5
}
